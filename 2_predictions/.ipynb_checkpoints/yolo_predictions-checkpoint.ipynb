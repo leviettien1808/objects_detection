{
 "cells": [
  {
   "cell_type": "code",
   "execution_count": 1,
   "id": "0a67efca-1455-4bd5-916e-ccd75ba13771",
   "metadata": {},
   "outputs": [],
   "source": [
    "import cv2\n",
    "import numpy as np\n",
    "import os\n",
    "import yaml\n",
    "from yaml.loader import SafeLoader"
   ]
  },
  {
   "cell_type": "code",
   "execution_count": 2,
   "id": "1e5da22e-eb1f-490d-be67-b3f938edc81a",
   "metadata": {},
   "outputs": [
    {
     "name": "stdout",
     "output_type": "stream",
     "text": [
      "['person', 'car', 'chair', 'bottle', 'pottedplant', 'bird', 'dog', 'sofa', 'bicycle', 'horse', 'boat', 'motorbike', 'cat', 'tvmonitor', 'cow', 'sheep', 'aeroplane', 'train', 'diningtable', 'bus']\n"
     ]
    }
   ],
   "source": [
    "# Load YAML\n",
    "with open('data.yaml', mode='r') as f:\n",
    "    data_yaml = yaml.load(f, Loader=SafeLoader)\n",
    "\n",
    "labels = data_yaml['names']\n",
    "print(labels)"
   ]
  },
  {
   "cell_type": "code",
   "execution_count": null,
   "id": "da801ec1-0c01-42ac-9067-68d9155f931a",
   "metadata": {},
   "outputs": [],
   "source": [
    "#"
   ]
  },
  {
   "cell_type": "code",
   "execution_count": null,
   "id": "a340d460-2a20-4866-9524-970a2c8f0f73",
   "metadata": {},
   "outputs": [],
   "source": [
    "# Load the image\n",
    "\n",
    "# get the YOLO prediction from the image"
   ]
  },
  {
   "cell_type": "code",
   "execution_count": null,
   "id": "80c7f3de-179c-4304-b56c-dd8dedebc87a",
   "metadata": {},
   "outputs": [],
   "source": [
    "# Non Maximum Suppression"
   ]
  },
  {
   "cell_type": "code",
   "execution_count": null,
   "id": "d1060b63-4f6a-4200-936b-196929e55e0b",
   "metadata": {},
   "outputs": [],
   "source": [
    "# Draw the Bounding"
   ]
  }
 ],
 "metadata": {
  "kernelspec": {
   "display_name": "Python 3 (ipykernel)",
   "language": "python",
   "name": "python3"
  },
  "language_info": {
   "codemirror_mode": {
    "name": "ipython",
    "version": 3
   },
   "file_extension": ".py",
   "mimetype": "text/x-python",
   "name": "python",
   "nbconvert_exporter": "python",
   "pygments_lexer": "ipython3",
   "version": "3.12.4"
  }
 },
 "nbformat": 4,
 "nbformat_minor": 5
}
